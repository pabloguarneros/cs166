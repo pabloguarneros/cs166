{
 "cells": [
  {
   "cell_type": "markdown",
   "metadata": {},
   "source": [
    "### Exercise 12.6\n",
    "Hint: probabilility distributions sum to one."
   ]
  },
  {
   "cell_type": "code",
   "execution_count": 4,
   "metadata": {},
   "outputs": [
    {
     "data": {
      "text/plain": [
       "6"
      ]
     },
     "execution_count": 4,
     "metadata": {},
     "output_type": "execute_result"
    }
   ],
   "source": [
    "import math\n",
    "import sympy\n",
    "math.factorial(3)"
   ]
  },
  {
   "cell_type": "code",
   "execution_count": 5,
   "metadata": {},
   "outputs": [
    {
     "name": "stdout",
     "output_type": "stream",
     "text": [
      "1.00000000000000\n"
     ]
    }
   ],
   "source": [
    "def f(num):\n",
    "    return math.factorial(num)\n",
    "\n",
    "def get_probability_0(k_range,n,p):\n",
    "    result = 1 - p\n",
    "    sums = 0\n",
    "    for k in range(k_range[0],k_range[1]+1):\n",
    "        comb = f(n)/(f(k)*f(n-k))\n",
    "        comb *= (p**k)*(1-p)**(8-k)\n",
    "        sums += comb\n",
    "    return result * sums\n",
    "\n",
    "def get_probability_1(k_range,n,p):\n",
    "    result = p\n",
    "    sums = 0\n",
    "    for k in range(k_range[0],k_range[1]+1):\n",
    "        comb = f(n)/(f(k)*f(n-k))\n",
    "        comb *= (p**k)*(1-p)**(8-k)\n",
    "        sums += comb\n",
    "    return result * sums\n",
    "\n",
    "from sympy.abc import p\n",
    "a = get_probability_0((0,4),8,p)\n",
    "b = get_probability_0((8,5),8,p)\n",
    "c = get_probability_1((0,3),8,p)\n",
    "d = get_probability_1((4,8),8,p)\n",
    "\n",
    "print(sympy.simplify(a+b+c+d).subs(p,0))\n"
   ]
  },
  {
   "cell_type": "markdown",
   "metadata": {},
   "source": [
    "#i didn't know what to give p, in our case, I gave it either a 0 or a 1 and had the sum of 1. When I tried to simplify it, it didn't cancel out the p's though."
   ]
  },
  {
   "cell_type": "code",
   "execution_count": 11,
   "metadata": {},
   "outputs": [],
   "source": [
    "import pylab\n",
    "import matplotlib.pyplot as plt\n",
    "\n",
    "def f(x): ### iterative map is now defined as f(x)\n",
    "    return (70*x**9 - 315*x**8 + 540*x**7 - 420*x**6 + 126*x**5)\n",
    "\n",
    "def plot_cobweb(initial_xs):\n",
    "\n",
    "    ### drawing diagonal line\n",
    "    xmin, xmax = 0, 1\n",
    "    plt.plot([xmin, xmax], [xmin, xmax],'k')\n",
    "\n",
    "    ### drawing curve\n",
    "    rng = pylab.arange(xmin, xmax, (xmax - xmin) / 20)\n",
    "    plt.plot(rng, [f(x) for x in rng],'k')\n",
    "\n",
    "    def mini_cobs(initial_x):\n",
    "        initial_point=(initial_x,0)\n",
    "        points = [initial_point]\n",
    "\n",
    "        for i in range(10):\n",
    "            if i%2 == 1: #odd\n",
    "                y = points[-1][1]\n",
    "                points.append((y,y))\n",
    "            else:\n",
    "                x = points[-1][0]\n",
    "                y = f(x)\n",
    "                points.append((x,y))\n",
    "\n",
    "        plt.plot(   [x for x,_ in points],\n",
    "                    [y for _,y in points],\n",
    "                    'b')\n",
    "    for x in initial_xs:\n",
    "        mini_cobs(x)\n",
    "        mini_cobs(x)\n",
    "        mini_cobs(x)\n",
    "    plt.xlabel(\"state x\")\n",
    "    plt.ylabel(\"state x+1\")\n",
    "    plt.xlim([0,1])\n",
    "    plt.ylim([0,1])\n",
    "    plt.show()"
   ]
  },
  {
   "cell_type": "code",
   "execution_count": 12,
   "metadata": {},
   "outputs": [
    {
     "data": {
      "image/png": "[encoded data removed]",
      "text/plain": [
       "<Figure size 432x288 with 1 Axes>"
      ]
     },
     "metadata": {
      "needs_background": "light"
     },
     "output_type": "display_data"
    }
   ],
   "source": [
    "plot_cobweb([0.3,0.5,0.8])"
   ]
  },
  {
   "cell_type": "markdown",
   "metadata": {},
   "source": [
    "**What this means**\n",
    "There is one equilibrium point in the screen (although we can count 1,1 and 0,0) as equilibrium points to. At about 0.5, the point is at an inequilibrium, meaning that the cobweb will diverge. For the points in equilibrium (the ones that attract the cobweb, they are saying that the density of the environment would stay around this point (either 0 or 1). Although individual cells could change, the overall density would stay here. In our cases, given these absolute densities, it is most likely that all individual cells either die or not. The turning point would thus be around 0.5, saying that after this number or before it, we see the gravitation toward one of the stable points. THIS IS SO COOL. )"
   ]
  },
  {
   "cell_type": "markdown",
   "metadata": {},
   "source": []
  },
  {
   "cell_type": "markdown",
   "metadata": {},
   "source": [
    "Rules for game of life\n",
    "\n",
    "A dead (quiescent) cell will turn into a living (active) cell if and only if it is surrounded by exactly three living cells.\n",
    "A living cell will remain alive if and only if it is surrounded by two or three other living cells. Otherwise it will die.\n",
    "Given moore, top is 8\n",
    "\n",
    "0 --> 1 (P) bounds 3,3\n",
    "1 --> 1 (P) bounds 2,3"
   ]
  },
  {
   "cell_type": "code",
   "execution_count": 8,
   "metadata": {},
   "outputs": [
    {
     "name": "stdout",
     "output_type": "stream",
     "text": [
      "p**3*(p - 1)**5*(28.0*p - 84.0)\n"
     ]
    }
   ],
   "source": [
    "import sympy\n",
    "\n",
    "# Use p as a symbolic variable\n",
    "from sympy.abc import p\n",
    "\n",
    "# The binomial coefficient function (n choose k)\n",
    "from scipy.special import comb\n",
    "\n",
    "result = (\n",
    "(1-p) * sum([\n",
    "comb(8, k) * p**k * (1-p)**(8-k)\n",
    "for k in range(3, 4)]) +\n",
    "p * sum([\n",
    "comb(8, k) * p**k * (1-p)**(8-k)\n",
    "for k in range(2, 4)]))\n",
    "print(sympy.simplify(result))"
   ]
  },
  {
   "cell_type": "code",
   "execution_count": 13,
   "metadata": {},
   "outputs": [],
   "source": [
    "#changing the function\n",
    "\n",
    "def f(p): ### iterative map is now defined as f(x)\n",
    "    return (p**3*(p - 1)**5*(28.0*p - 84.0))"
   ]
  },
  {
   "cell_type": "code",
   "execution_count": 15,
   "metadata": {},
   "outputs": [
    {
     "data": {
      "image/png": "[encoded data removed]",
      "text/plain": [
       "<Figure size 432x288 with 1 Axes>"
      ]
     },
     "metadata": {
      "needs_background": "light"
     },
     "output_type": "display_data"
    }
   ],
   "source": [
    "plot_cobweb([0,1,0.3,0.5,0.8,0.23])"
   ]
  },
  {
   "cell_type": "markdown",
   "metadata": {},
   "source": [
    "In our case, we see that when the initial state of  is really large, then we might approach a state where all cells die. However, there is a sweet spot where we will be able to reach any of the two equilibrium states (other than total death) that would require an initial state between 0.2 and 0.6. :) \n",
    "\n",
    "For the simulation, it could be I have to extend the space of total cells (doing it 10x10 frame). But I normally get a 0.8% regardless of the position I start with. And no 0.3 density even though that was shown by the graph."
   ]
  }
 ],
 "metadata": {
  "interpreter": {
   "hash": "ef064884badd19e9aeee1acc4248e51b028a1fbeaee7cef92a5778074870560d"
  },
  "kernelspec": {
   "display_name": "Python 3.8.12 64-bit ('cs166': conda)",
   "language": "python",
   "name": "python3"
  },
  "language_info": {
   "codemirror_mode": {
    "name": "ipython",
    "version": 3
   },
   "file_extension": ".py",
   "mimetype": "text/x-python",
   "name": "python",
   "nbconvert_exporter": "python",
   "pygments_lexer": "ipython3",
   "version": "3.8.12"
  },
  "orig_nbformat": 4
 },
 "nbformat": 4,
 "nbformat_minor": 2
}
