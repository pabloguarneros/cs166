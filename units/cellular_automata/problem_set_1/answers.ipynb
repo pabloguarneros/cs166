{
 "cells": [
  {
   "cell_type": "markdown",
   "metadata": {},
   "source": [
    "**Completed until **"
   ]
  },
  {
   "cell_type": "markdown",
   "metadata": {},
   "source": [
    "### Question 1: Design a model\n",
    "\n",
    "A smile can be contagious.\n",
    "\n",
    "I want to model a train station on a workday to see whether a smile can spread from one end to the other. Each person would act as cell that can either be smiling or not.\n",
    "\n",
    "\n",
    "There are two differences between the smile and tree model. First, people are moving. Although this makes people can move! aahh permeable!\n",
    "is that that unlike trees, people are moving. In the fire simulation, we also gave the trees a Moore neighbhorhood. This wouldn not work for the smile model because a person is only facing one direction. Therefore, if they were \n",
    "\n",
    "\n",
    "Similar to the fire model, I could track the smiles not in time but in c\n",
    "\n",
    "A limit to my model is that not all smiles are created equal. For example, a person can be smiling at their phone. I predict this smile would have lower \"contagion\" than a smile you return to someone else. Furthermore, covid mask regulations might make it difficult for a person to know the other one is smiling. \n",
    "\n",
    "\n",
    " At which scale do you choose to describe the microscopic components and what are those\n",
    "components? Briefly describe other scales (larger and/or smaller) at which you could have\n",
    "chosen to model the microscopic state and why your chosen scale is the most appropriate.\n",
    "● What states can the microscopic components take on?\n",
    "● What are the relationships between the components?\n",
    "● How do the states of the components change over time? Some of these changes may\n",
    "depend on interactions between the components while other changes may not.\n",
    "After answering all of the questions above, predict what kind of macroscopic behaviors would arise\n",
    "if you run a computational simulation of your model."
   ]
  },
  {
   "cell_type": "markdown",
   "metadata": {},
   "source": [
    "### Problem 2: Is the random module random?"
   ]
  },
  {
   "cell_type": "code",
   "execution_count": 1,
   "metadata": {},
   "outputs": [],
   "source": [
    "import numpy as np\n",
    "numbers = np.random.randint(100, size=1000000)"
   ]
  },
  {
   "cell_type": "code",
   "execution_count": 7,
   "metadata": {},
   "outputs": [
    {
     "data": {
      "image/png": "[encoded data removed]",
      "text/plain": [
       "<Figure size 432x288 with 1 Axes>"
      ]
     },
     "metadata": {
      "needs_background": "light"
     },
     "output_type": "display_data"
    }
   ],
   "source": [
    "from matplotlib import pyplot as plt\n",
    "hist = plt.figure()\n",
    "plt.hist(numbers,bins=100,color=\"black\")\n",
    "plt.xlabel(\"Choice Picked By Random Module\")\n",
    "plt.ylabel(\"Frequency\")\n",
    "caption = \"Distribution of A Million Choices Selected By The Random Module\"\n",
    "hist.text(.5, -0.06, caption, ha='center')\n",
    "plt.show()"
   ]
  },
  {
   "cell_type": "markdown",
   "metadata": {},
   "source": [
    "Random choices are not equally distributed in practice. For example, if you flip a coin 100 times, it is unlikely you will get a 50:50 heads:tails. Therefore, even with a million iterations, I would not expect the random module to be equally distributed completely.\n",
    "\n",
    "According to the central limit theorem, with enough trials, the distribution of your samples will approximate a normal distribution. Yet this wouldn't apply in our case because we are not dealing with a normal sample where there is a mean and a standard deviation as such.\n",
    "\n",
    "However, we can borrow the Law of Large Numbers from the central limit theorem. With a big enough size, our results would approximate what we get theoretically."
   ]
  },
  {
   "cell_type": "markdown",
   "metadata": {},
   "source": [
    "## Question 3: Forest fire mean-field approximation"
   ]
  },
  {
   "cell_type": "code",
   "execution_count": null,
   "metadata": {},
   "outputs": [],
   "source": []
  },
  {
   "cell_type": "markdown",
   "metadata": {},
   "source": [
    "## Problem 4: Wireworld"
   ]
  }
 ],
 "metadata": {
  "interpreter": {
   "hash": "927b687287e2ab8c897a33edec5b008c33b6064edf6869f9bc62c16a804b0cb8"
  },
  "kernelspec": {
   "display_name": "Python 3",
   "language": "python",
   "name": "python3"
  },
  "language_info": {
   "codemirror_mode": {
    "name": "ipython",
    "version": 3
   },
   "file_extension": ".py",
   "mimetype": "text/x-python",
   "name": "python",
   "nbconvert_exporter": "python",
   "pygments_lexer": "ipython3",
   "version": "3.6.8"
  }
 },
 "nbformat": 4,
 "nbformat_minor": 2
}
