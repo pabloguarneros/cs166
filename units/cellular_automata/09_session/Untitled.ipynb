{
 "cells": [
  {
   "cell_type": "code",
   "execution_count": 1,
   "id": "ecffbe44",
   "metadata": {},
   "outputs": [],
   "source": [
    "import numpy as np"
   ]
  },
  {
   "cell_type": "code",
   "execution_count": 2,
   "id": "c234a217",
   "metadata": {},
   "outputs": [],
   "source": [
    "class TrafficSimulation:\n",
    "\n",
    "    def __init__(self, road_length=100, car_density=0.2, prob_slow=0.5,\n",
    "                 max_speed=5):\n",
    "        '''\n",
    "        Create a new traffic simulation object. Cars are distributed randomly\n",
    "        along the road and start with random velocities.\n",
    "\n",
    "        Inputs:\n",
    "\n",
    "            road_length (int) The number of cells in the road. Default: 100.\n",
    "\n",
    "            car_density (float) The fraction of cells that have a car on them.\n",
    "              Default: 0.2.\n",
    "\n",
    "            prob_slow (float) The probability that a car will randomly slow down\n",
    "              by 1 during an update step. Default: 0.5.\n",
    "\n",
    "            max_speed (int) The maximum speed in car cells per update step.\n",
    "              Default: 5.\n",
    "        '''\n",
    "        self.road_length = road_length\n",
    "        self.car_density = car_density\n",
    "        self.max_speed = max_speed\n",
    "        self.prob_slow = prob_slow\n",
    "\n",
    "        # Create an empty road: -1 means empty in this simulation\n",
    "        self.state = np.full(self.road_length, -1, dtype=int)\n",
    "        # Choose random locations to place cars\n",
    "        random_indexes = np.random.choice(\n",
    "            range(self.road_length),\n",
    "            size=int(round(car_density * self.road_length)),\n",
    "            replace=False)\n",
    "        # Give each car a random initial speed from 0 to max_speed\n",
    "        self.state[random_indexes] = np.random.randint(\n",
    "            0, self.max_speed + 1, size=len(random_indexes))\n",
    "\n",
    "        # Keep track of the time steps and average traffic flow at each step\n",
    "        self.time_step = 0\n",
    "        self.average_traffic_flow = []\n",
    "\n",
    "    def update(self, optimized=True):\n",
    "        '''\n",
    "        Advance one time step in the simulation.\n",
    "        '''\n",
    "        if optimized:\n",
    "            return self.update_optimized()\n",
    "        \n",
    "        # Update car speeds\n",
    "        for i in range(self.road_length):\n",
    "            if self.state[i] != -1:\n",
    "                # Distance is the number of empty cells between this car and the\n",
    "                # next car plus 1\n",
    "                distance = 1\n",
    "                while self.state[(i + distance) % self.road_length] == -1:\n",
    "                    distance += 1\n",
    "                # Acceleration\n",
    "                if self.state[i] < self.max_speed:\n",
    "                    self.state[i] += 1\n",
    "                # Deceleration\n",
    "                if self.state[i] >= distance:\n",
    "                    self.state[i] = distance - 1\n",
    "                # Randomization\n",
    "                if (\n",
    "                    (self.state[i] > 0) and\n",
    "                    (np.random.uniform() < self.prob_slow)\n",
    "                ):\n",
    "                    self.state[i] -= 1\n",
    "\n",
    "        # Move cars forward using their new speeds\n",
    "        new_state = np.full(self.road_length, -1, dtype=int)\n",
    "        for i in range(self.road_length):\n",
    "            cell = self.state[i]\n",
    "            if cell != -1:\n",
    "                new_state[(i + cell) % self.road_length] = cell\n",
    "        self.state = new_state\n",
    "\n",
    "        # Update average traffic flow history\n",
    "        self.average_traffic_flow.append(\n",
    "            sum(self.state[self.state > 0]) / self.road_length)\n",
    "        self.time_step += 1\n",
    "\n",
    "    def update_optimized(self):\n",
    "        '''\n",
    "        Advance one time step in the simulation.\n",
    "        '''\n",
    "        # Get the location of each car\n",
    "        car_indexes = np.where(self.state >= 0)[0]\n",
    "        \n",
    "        # If there are no cars, we have nothing to update\n",
    "        if len(car_indexes) == 0:\n",
    "            self.average_traffic_flow.append(0)\n",
    "            self.time_step += 1\n",
    "            return\n",
    "\n",
    "        # Get the speed of each cars\n",
    "        car_speeds = self.state[car_indexes]\n",
    "        # Get the distance from each car to the next car\n",
    "        car_distances = np.ediff1d(\n",
    "            np.concatenate((car_indexes,\n",
    "                            [car_indexes[0] + self.road_length])))\n",
    "        # Update car speeds\n",
    "        # Acceleration\n",
    "        car_speeds = np.where(\n",
    "            car_speeds + 1 <= self.max_speed,\n",
    "            car_speeds + 1,\n",
    "            self.max_speed)\n",
    "        # Deceleration\n",
    "        car_speeds = np.where(\n",
    "            car_speeds >= car_distances,\n",
    "            car_distances - 1,\n",
    "            car_speeds)\n",
    "        # Randomization\n",
    "        moving_car_indexes = np.where(car_speeds > 0)[0]\n",
    "        car_speeds[moving_car_indexes] -= (\n",
    "            np.random.uniform(size=len(moving_car_indexes)) < self.prob_slow)\n",
    "\n",
    "        # Move cars forward using their new speeds\n",
    "        car_indexes += car_speeds\n",
    "        car_indexes %= self.road_length\n",
    "        self.state.fill(-1)\n",
    "        self.state[car_indexes] = car_speeds\n",
    "\n",
    "        # Update traffic flow history\n",
    "        self.average_traffic_flow.append(sum(car_speeds) / self.road_length)\n",
    "        self.time_step += 1\n",
    "\n",
    "    def display(self):\n",
    "        '''\n",
    "        Print out the current state of the simulation.\n",
    "        '''\n",
    "        print(''.join('.' if x == -1 else str(x) for x in self.state))"
   ]
  },
  {
   "cell_type": "code",
   "execution_count": 3,
   "id": "056adea5",
   "metadata": {},
   "outputs": [
    {
     "name": "stdout",
     "output_type": "stream",
     "text": [
      "Unoptimized:\n",
      "5....1..3.5442....3..2.......54.........43....30..\n",
      "...3...2.1000...3..1....3....0.....5....0....400..\n",
      ".....2.0.000.1....2..2......4.1........4.1...00.1.\n",
      "2....0..1000..1.....2..2.....1..2.......1.1..0.1..\n",
      "..2..0..000.1..1......2...3...1....3.....1.1.0..1.\n",
      "2..1..1.00.1.1...2.......3...3.1......3..0.0..1...\n",
      ".1..1.0.0.1.1..2....3......2.0..1......1..10....2.\n",
      "...2.10..1.1.1...2......4...1.1..1.......20.1....1\n",
      ".2..100...1.1..2...2......2.0..1...2.....00..1....\n",
      "...2000....1..2..2....3....10....2...2...00....2..\n",
      "\n",
      "Optimized\n",
      "5....1..3.5442....3..2.......54.........43....30..\n",
      "...3...2.1000...3..1....3....0.....5....0....400..\n",
      ".....2.0.000.1....2..2......4.1........4.1...00.1.\n",
      "2....0..1000..1.....2..2.....1..2.......1.1..0.1..\n",
      "..2..0..000.1..1......2...3...1....3.....1.1.0..1.\n",
      "2..1..1.00.1.1...2.......3...3.1......3..0.0..1...\n",
      ".1..1.0.0.1.1..2....3......2.0..1......1..10....2.\n",
      "...2.10..1.1.1...2......4...1.1..1.......20.1....1\n",
      ".2..100...1.1..2...2......2.0..1...2.....00..1....\n",
      "...2000....1..2..2....3....10....2...2...00....2..\n",
      "\n",
      "Final states match? True\n"
     ]
    }
   ],
   "source": [
    "print('Unoptimized:')\n",
    "np.random.seed(123)  # Set the seed so we can compare to random simulations\n",
    "sim = TrafficSimulation(\n",
    "    road_length=50, car_density=0.3, max_speed=5, prob_slow=0.5)\n",
    "initial_state = sim.state.copy()\n",
    "for i in range(10):\n",
    "    sim.display()\n",
    "    sim.update(optimized=False)\n",
    "final_state = sim.state.copy()\n",
    "\n",
    "print()\n",
    "print('Optimized')\n",
    "np.random.seed(123)  # Set the seed so we can compare to random simulations\n",
    "sim = TrafficSimulation(\n",
    "    road_length=50, car_density=0.3, max_speed=5, prob_slow=0.5)\n",
    "sim.state = initial_state.copy()\n",
    "for i in range(10):\n",
    "    sim.display()\n",
    "    sim.update(optimized=True)\n",
    "\n",
    "print()\n",
    "print('Final states match?', np.all(final_state == sim.state))"
   ]
  },
  {
   "cell_type": "code",
   "execution_count": 4,
   "id": "ac3aa23e",
   "metadata": {},
   "outputs": [
    {
     "name": "stdout",
     "output_type": "stream",
     "text": [
      "0...................\n",
      ".1..................\n",
      "...2................\n",
      "......3.............\n",
      "..........4.........\n",
      "...............5....\n",
      "5...................\n",
      ".....5..............\n",
      "..........5.........\n",
      "...............5....\n"
     ]
    }
   ],
   "source": [
    "sim = TrafficSimulation(\n",
    "    road_length=20, car_density=1/20, max_speed=5, prob_slow=0)\n",
    "sim.state[sim.state > 0] = 0  # Force the speed of the car to be 0\n",
    "for i in range(10):\n",
    "    sim.display()\n",
    "    sim.update()"
   ]
  },
  {
   "cell_type": "code",
   "execution_count": 5,
   "id": "836f8fe2",
   "metadata": {},
   "outputs": [
    {
     "name": "stdout",
     "output_type": "stream",
     "text": [
      "..2...1..4.......0..\n",
      ".....3..2.....5...1.\n",
      "2......2...3.....3..\n",
      "...3......3....4...2\n",
      "..3....4......4...3.\n",
      ".3....4.....5....3..\n",
      "3....4.....5....4...\n",
      "....4.....5....4...3\n",
      "...4.....5....4...3.\n",
      "..4.....5....4...3..\n"
     ]
    }
   ],
   "source": [
    "sim = TrafficSimulation(\n",
    "    road_length=20, car_density=2/20, max_speed=5, prob_slow=0)\n",
    "sim.state[:7] = [-1, -1, 2, -1, -1, -1, 1]\n",
    "for i in range(10):\n",
    "    sim.display()\n",
    "    sim.update()"
   ]
  },
  {
   "cell_type": "code",
   "execution_count": 6,
   "id": "4eb662c1",
   "metadata": {},
   "outputs": [
    {
     "name": "stdout",
     "output_type": "stream",
     "text": [
      "..........5..2....................................\n",
      "...........1...2..................................\n",
      ".............2....3...............................\n",
      "................3.....4...........................\n",
      "...................3......4.......................\n",
      "......................3........5..................\n",
      ".........................3.........4..............\n",
      ".............................4..........5.........\n",
      "..................................5.........4.....\n",
      ".......................................5.........5\n"
     ]
    }
   ],
   "source": [
    "np.random.seed(123)\n",
    "sim = TrafficSimulation(\n",
    "    road_length=50, car_density=2/50, max_speed=5, prob_slow=0.5)\n",
    "for i in range(10):\n",
    "    sim.display()\n",
    "    sim.update()"
   ]
  },
  {
   "cell_type": "code",
   "execution_count": 7,
   "id": "d614eeda",
   "metadata": {},
   "outputs": [
    {
     "name": "stdout",
     "output_type": "stream",
     "text": [
      "..4.5..1..................4......................4\n",
      ".2.1..2..2....................4...................\n",
      ".0..1...2...3......................5..............\n",
      "..1...2...2.....4.......................5.........\n",
      "....2....3...3.......5.......................5....\n",
      "5......3....3....4........5.......................\n",
      "....4......4....4.....5........5..................\n",
      ".........5.....4.....5.....5........5.............\n",
      "..............5.....5.....5.....5........5........\n",
      "...................5.....5.....5.....5........5...\n",
      ".5......................5.....5....4.....4........\n",
      "......5......................5...3......5.....5...\n",
      ".5........4....................2.....4.......5....\n",
      "5.....5........5..................3.......5.......\n",
      ".....5.....5........5.................4........5..\n",
      "..5.......5.....5.......4..................5......\n",
      ".......5.......5.....5.......5.................4..\n",
      "..5.........5.......5.....5.......5...............\n",
      ".......5.........5......4......5.......5..........\n",
      "...........4..........5......5......5.......5.....\n"
     ]
    }
   ],
   "source": [
    "sim = TrafficSimulation(\n",
    "    road_length=50, car_density=0.1, max_speed=5, prob_slow=0.1)\n",
    "for i in range(20):\n",
    "    sim.display()\n",
    "    sim.update()"
   ]
  },
  {
   "cell_type": "code",
   "execution_count": 8,
   "id": "64204c76",
   "metadata": {},
   "outputs": [
    {
     "name": "stdout",
     "output_type": "stream",
     "text": [
      "5.........5.42....3...........4.........4.....3...\n",
      ".....5.....10..2......4............5.........5...3\n",
      "...4......50.1....3........5...........4........3.\n",
      "..4.....5.0.1..2......4.........5...........5.....\n",
      ".......5.1.1..2...3.......4..........5...........5\n",
      "....5..0..1.1....3....4........5.........4........\n",
      "......20..0...2......4.....5........5.........5...\n",
      ".5....0.1..1.....3.......4......5........5........\n",
      ".....4.1..2..2.......4.......4.......5........5...\n",
      ".5....1..2..2..2.........4........5.......5.......\n",
      ".....4..2..2..2...3..........4.........5.......5..\n",
      "..5....2..2..2..2.....4...........5.........5.....\n",
      "......4..2..2..2...3.......5...........5.........5\n",
      "....5..1...2..2...3...3.........5...........5.....\n",
      "......2.1....2...3...3....4..........5...........5\n",
      "....5.0...2.....3..2.....4.....5..........5.......\n",
      "....0..1.....3....2...3.......5.....5..........5..\n",
      "..5.0....2.......4...3....4........5.....5........\n",
      "..0..1......3.......3...3.....4........4......5...\n",
      "4..1...2.......3.......3....4......5........5.....\n"
     ]
    }
   ],
   "source": [
    "np.random.seed(123)\n",
    "sim = TrafficSimulation(\n",
    "    road_length=50, car_density=0.15, max_speed=5, prob_slow=0.2)\n",
    "for i in range(20):\n",
    "    sim.display()\n",
    "    sim.update()"
   ]
  },
  {
   "cell_type": "code",
   "execution_count": 9,
   "id": "fcc4868e",
   "metadata": {},
   "outputs": [
    {
     "name": "stdout",
     "output_type": "stream",
     "text": [
      "....5...2..2......0.......4.3.....1.3.............\n",
      ".......3..2...3....1.......1....4..1....4.........\n",
      ".........2...3....4..2.......2....2..2.......5....\n",
      "5...........3....4..2...3.......3...2...3.........\n",
      ".....5..........4..2...3....4......3...3....4.....\n",
      "..........5.......2...3....4.....5....3....4.....5\n",
      "....5..........5.....3....4.....5....4....4.....5.\n",
      "...5.....5..........5....4.....5....4....4.....5..\n",
      "..5.....5.....5.........4.....5....4....4.....5...\n",
      ".5.....5.....5.....5.........5....4....4.....5....\n",
      "5.....5.....5.....5.....5........4....4.....5.....\n",
      ".....5.....5.....5.....5.....5.......4.....5.....5\n",
      "....5.....5.....5.....5.....5.....5.......5.....5.\n",
      "...5.....5.....5.....5.....5.....5.....5.......5..\n",
      "..5.....5.....5.....5.....5.....5.....5.....5.....\n",
      ".......5.....5.....5.....5.....5.....5.....5.....5\n",
      "....5.......5.....5.....5.....5.....5.....5.....5.\n",
      "...5.....5.......5.....5.....5.....5.....5.....5..\n",
      "..5.....5.....5.......5.....5.....5.....5.....5...\n",
      ".5.....5.....5.....5.......5.....5.....5.....5....\n"
     ]
    }
   ],
   "source": [
    "sim = TrafficSimulation(\n",
    "    road_length=50, car_density=0.15, max_speed=5, prob_slow=0)\n",
    "for i in range(20):\n",
    "    sim.display()\n",
    "    sim.update()"
   ]
  },
  {
   "cell_type": "code",
   "execution_count": 10,
   "id": "18ea77d6",
   "metadata": {},
   "outputs": [
    {
     "name": "stdout",
     "output_type": "stream",
     "text": [
      "0050...45.353.01.121...4515.0....23..42..31.3.3005\n",
      "0000...0.100.10.100..2.000.1.1...0..20..20.1.10000\n",
      "000.1...100.10.100.1..100.10...2.0..0.1.0.10.00000\n",
      "00.1..2.00.100.00.1..200.10.1...1.1..1.1.100.00000\n",
      "0.1..2.10.100.10.1..200.10.1..2..1..2.1.100.100000\n",
      ".1..2.10.100.10.1..200.10.1..2..2..2.10.00.1000000\n",
      "1..2.10.100.10.1.1.00.10.1.1...2..2.10.10.1000000.\n",
      "..2.10.100.10.1.1.100.0.1.1..2...2.10.10.1000000.1\n",
      ".2.10.100.10.1.10.00.1.1.1..2..2..10.10.1000000.1.\n",
      "2.10.100.10.1.10.10.1.1.1..2..2..20.10.10000000...\n",
      ".10.100.10.1.10.10.1.1.1..2.1..1.0.10.10000000.1..\n",
      ".0.100.10.1.10.10.1.1.1..2.1..20..10.10000000.1..2\n",
      "1.100.10.1.10.10.1.1.1..2.1..20.1.0.10000000.1..2.\n",
      ".100.10.1.10.100..1.1..20...20.1.1.10000000.1..2.1\n",
      "100.10.1.10.100.1..1..20.1..0.1.1.10000000.1..2.1.\n",
      "00.10.1.10.1000...2..20.1..2.1.1.10000000.1..20..1\n",
      "0.10.1.10.1000.1...1.0.1..2.1.1.10000000.1..20.1.0\n",
      ".10.1.10.1000.1..2.0..1.1..1.1.10000000.1..20.1.10\n",
      "10.1.10.10000...2.10...1..2.1.10000000.1..20.1.10.\n",
      "00..10.10000.1...10.1....2.1.10000000.1..20.1.10.1\n"
     ]
    }
   ],
   "source": [
    "sim = TrafficSimulation(\n",
    "    road_length=50, car_density=0.6, max_speed=5, prob_slow=0.1)\n",
    "for i in range(20):\n",
    "    sim.display()\n",
    "    sim.update()"
   ]
  },
  {
   "cell_type": "code",
   "execution_count": 11,
   "id": "91279d52",
   "metadata": {},
   "outputs": [],
   "source": [
    "\n",
    "# Run the simulation 200 times at various traffic densities from 0 to 1 and\n",
    "# record the results. The maximum speed is 5 and the probability of slowing\n",
    "# down is 0.5.\n",
    "\n",
    "trials = 200 # Number of times to repeat the simulation at each density\n",
    "densities = np.linspace(0, 1, 101)\n",
    "average_flows = []  # The results go here\n",
    "\n",
    "for density in densities:\n",
    "    flows = []\n",
    "    for trial in range(trials):\n",
    "        sim = TrafficSimulation(\n",
    "            road_length=100,\n",
    "            car_density=density,\n",
    "            max_speed=5,\n",
    "            prob_slow=0.5)\n",
    "        # Run for 50 steps to reach an equilibrium state\n",
    "        for step in range(50):\n",
    "            sim.update()\n",
    "        # Record the final average traffic flow\n",
    "        flows.append(sim.average_traffic_flow[-1])\n",
    "    average_flows.append(flows)\n",
    "average_flows = np.array(average_flows)"
   ]
  },
  {
   "cell_type": "code",
   "execution_count": 12,
   "id": "ebdf2395",
   "metadata": {},
   "outputs": [
    {
     "data": {
      "image/png": "[encoded data removed]",
      "text/plain": [
       "<Figure size 576x432 with 1 Axes>"
      ]
     },
     "metadata": {
      "needs_background": "light"
     },
     "output_type": "display_data"
    }
   ],
   "source": [
    "import matplotlib.pyplot as plt\n",
    "import scipy.stats as sts\n",
    "\n",
    "plt.figure(figsize=(8, 6))\n",
    "plt.title('Expected average traffic flow at different car densities')\n",
    "plt.xlabel('Car density')\n",
    "plt.ylabel('Average traffic flow')\n",
    "flow_mean = np.mean(average_flows, axis=1)\n",
    "std_err = sts.sem(average_flows, axis=1)\n",
    "plt.plot(densities, flow_mean, 'k-', label='mean')\n",
    "plt.plot(densities, flow_mean - 1.96 * std_err, 'k:',\n",
    "         label='95% confidence interval')\n",
    "plt.plot(densities, flow_mean + 1.96 * std_err, 'k:')\n",
    "plt.legend()\n",
    "plt.show()"
   ]
  }
 ],
 "metadata": {
  "interpreter": {
   "hash": "ef064884badd19e9aeee1acc4248e51b028a1fbeaee7cef92a5778074870560d"
  },
  "kernelspec": {
   "display_name": "Python 3.7 (ptc)",
   "language": "python",
   "name": "python3"
  },
  "language_info": {
   "codemirror_mode": {
    "name": "ipython",
    "version": 3
   },
   "file_extension": ".py",
   "mimetype": "text/x-python",
   "name": "python",
   "nbconvert_exporter": "python",
   "pygments_lexer": "ipython3",
   "version": "3.8.12"
  }
 },
 "nbformat": 4,
 "nbformat_minor": 5
}
