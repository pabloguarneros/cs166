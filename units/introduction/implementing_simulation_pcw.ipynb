{
 "cells": [
  {
   "cell_type": "code",
   "execution_count": 5,
   "metadata": {},
   "outputs": [],
   "source": [
    "# import libraries\n",
    "import heapq\n",
    "import numpy as np\n",
    "import scipy.stats as sts\n",
    "import matplotlib.pyplot as plt"
   ]
  },
  {
   "cell_type": "code",
   "execution_count": 6,
   "metadata": {},
   "outputs": [],
   "source": [
    "class Event:\n",
    "\n",
    "    def __init__(self, timestamp, function, *args, **kwargs):\n",
    "        self.timestamp = timestamp # time within simulation\n",
    "        self.function = function # function to call when event triggered\n",
    "        self.args = args # list of values sent\n",
    "        self.kwargs = kwargs # for keyword arguments --> unwrap as dictionary\n",
    "\n",
    "    def __lt__(self, other):\n",
    "        return self.timestamp < other.timestamp\n",
    "\n",
    "    def run(self, schedule):\n",
    "        self.function(schedule, *self.args, **self.kwargs)\n",
    "\n",
    "\n",
    "class Schedule:\n",
    "\n",
    "    def __init__(self):\n",
    "        self.now = 0  # Keep track of the current simulation time\n",
    "        self.priority_queue = []  # The priority queue of events to run\n",
    "    \n",
    "    def add_event_at(self, timestamp, function, *args, **kwargs):\n",
    "        # Add an event to the schedule at a particular point in time.\n",
    "        heapq.heappush( self.priority_queue, Event(timestamp, function, *args, **kwargs))\n",
    "    \n",
    "    def add_event_after(self, interval, function, *args, **kwargs):\n",
    "        # Add an event to the schedule after a specified time interval.\n",
    "        self.add_event_at(self.now + interval, function, *args, **kwargs)\n",
    "    \n",
    "    def next_event_time(self):\n",
    "        # Return the time of the next event. The `now` attribute of this class\n",
    "        # contain the time of the last event that was run.\n",
    "        return self.priority_queue[0].timestamp\n",
    "\n",
    "    def run_next_event(self):\n",
    "        # Get the next event from the priority queue and run it.\n",
    "        event = heapq.heappop(self.priority_queue)\n",
    "        self.now = event.timestamp\n",
    "        event.run(self)\n",
    "        \n",
    "    def __repr__(self):\n",
    "        return (\n",
    "            f'Schedule() at time {self.now} ' +\n",
    "            f'with {len(self.priority_queue)} events in the queue')\n",
    "    \n",
    "    def print_events(self):\n",
    "        # Print out diagnostic information about the events in the schedule.\n",
    "        print(repr(self))\n",
    "        for event in sorted(self.priority_queue):\n",
    "            print(f'   {event.timestamp}: {event.function.__name__}')"
   ]
  },
  {
   "cell_type": "code",
   "execution_count": 117,
   "metadata": {},
   "outputs": [],
   "source": [
    "class VizSchedule(Schedule):\n",
    "    \n",
    "    '''\n",
    "    Inherit from Schedule to create a visual representation of the scheduler\n",
    "    '''\n",
    "    \n",
    "    def __init__(self):\n",
    "        super().__init__()\n",
    "        self.event_count = 0\n",
    "    \n",
    "    def add_event_after(self, interval, function, *args, **kwargs):\n",
    "        '''\n",
    "        Change the function to create a plot every time an event is created.\n",
    "        '''\n",
    "        if function.__name__ != \"serve\":\n",
    "            x = [self.now, self.now+interval]\n",
    "            y = [self.event_count, self.event_count]\n",
    "            if function.__name__ == \"end_serve\":\n",
    "                plt.plot(x, y, color=\"green\")\n",
    "            elif function.__name__ == \"arrive\":\n",
    "                plt.plot(x, y, color=\"grey\")\n",
    "        else:\n",
    "            pass\n",
    "            #plt.plot([self.now],[self.event_count], marker=\"o\", markersize=10, markerfacecolor=\"red\", markeredgecolor=\"none\")\n",
    "        self.add_event_at(self.now + interval, function, *args, **kwargs)\n",
    "        self.event_count += 1"
   ]
  },
  {
   "cell_type": "code",
   "execution_count": 118,
   "metadata": {},
   "outputs": [],
   "source": [
    "class Queue:\n",
    "    \n",
    "    ''' Create a queue for the store, where people can arrive and get served.\n",
    "    '''\n",
    "    \n",
    "    def __init__(self, store, id):\n",
    "    \n",
    "        self.store = store\n",
    "        self.id = id\n",
    "        self.in_queue = 0\n",
    "        self.served = 0\n",
    "        self.serving = False\n",
    "        \n",
    "    def arrive(self, schedule):\n",
    "        #print(f\"A customer has arrived @ {schedule.now}\")\n",
    "        self.in_queue += 1\n",
    "        \n",
    "    def end_serve(self, schedule):\n",
    "        #print(f\"Finished serving a customer @ {schedule.now}\")\n",
    "        self.served += 1\n",
    "        self.serving = False\n",
    "        store.schedule.add_event_after(0, self.serve)\n",
    "        \n",
    "    def serve(self, _):\n",
    "        if self.in_queue > 0 and not self.serving:\n",
    "            #print(f\"Starting to serve a customer @ {schedule.now}\")\n",
    "            self.in_queue -= 1\n",
    "            self.serving = True\n",
    "            interval = store.service_time\n",
    "            store.schedule.add_event_after(interval, self.end_serve)\n",
    "            \n",
    "    def run(self):\n",
    "        interval = store.arrival_distribution.rvs()\n",
    "        store.schedule.add_event_after(interval, self.arrive) \n",
    "        self.serve(_)\n",
    "        store.schedule.run_next_event()\n",
    "\n",
    "class GroceryStore:\n",
    "    \n",
    "    '''\n",
    "    Create a class for the grocery store that takes into account the constants.\n",
    "    And runs the simulation\n",
    "    '''\n",
    "    \n",
    "    def __init__(self, arrival_rate, service_time, queue_num):\n",
    "        \n",
    "        self.schedule = VizSchedule()\n",
    "        self.queues = [Queue(self, str(i)) for i in range(queue_num)]\n",
    "        self.arrival_distribution = sts.expon(scale=1/arrival_rate)\n",
    "        self.service_time = service_time\n",
    "        \n",
    "    def generate_report(self):\n",
    "        print(\"Generating report\")\n",
    "        print(\"- - - - - - - \")\n",
    "        print(\"- - - - - - - \")\n",
    "        for queue in self.queues:\n",
    "            print(f\"Queue ID: {queue.id}\")\n",
    "            print(\"- - - - - - - \")\n",
    "            print(f\"Customers in queue: {queue.in_queue}\")\n",
    "            print(f\"Customers served: {queue.served}\")\n",
    "        \n",
    "    def run(self, simulation_duration):\n",
    "        \n",
    "        '''\n",
    "        Run the simulation until the duration is reached.\n",
    "        Generate a report once the simulation ends.\n",
    "        '''\n",
    "        \n",
    "        while self.schedule.now < simulation_duration:\n",
    "            for queue in self.queues:\n",
    "                queue.run()\n",
    "                \n",
    "        self.generate_report()\n",
    "        "
   ]
  },
  {
   "cell_type": "code",
   "execution_count": 125,
   "metadata": {},
   "outputs": [
    {
     "name": "stdout",
     "output_type": "stream",
     "text": [
      "Generating report\n",
      "- - - - - - - \n",
      "- - - - - - - \n",
      "Queue ID: 0\n",
      "- - - - - - - \n",
      "Customers in queue: 919\n",
      "Customers served: 9\n"
     ]
    },
    {
     "data": {
      "image/png": "[encoded data removed]",
      "text/plain": [
       "<Figure size 432x288 with 1 Axes>"
      ]
     },
     "metadata": {
      "needs_background": "light"
     },
     "output_type": "display_data"
    }
   ],
   "source": [
    "store = GroceryStore(1,10,1)\n",
    "store.run(100)"
   ]
  },
  {
   "cell_type": "markdown",
   "metadata": {},
   "source": [
    "## Analysis\n",
    "\n",
    "### Python Implementation\n",
    "Althouh the code implements a simulation, I must add the appropriate unit tests to ensure the simulation is running according to plan. Although we are using a heap, we store the values as a list, which makes it inefficient to run it continuously given we must keep heapifying our list. The visualization is also poor. Although it captures when customer is being served, it is missing labels to tell what is going on. It would also be helpful to plot not the # of total events, but how this relates to the queue length.\n",
    "\n",
    "### Code Readabiity\n",
    "The readability of the code is also poor. Commenting the code is not used and although we use variables rather than numbers, we could do a better job at architecting a more straight-forward and organized implementation. For example, the constants for mu and lambda should get switched whenever we want to have a MM1 rather than MD1 query."
   ]
  },
  {
   "cell_type": "code",
   "execution_count": null,
   "metadata": {},
   "outputs": [],
   "source": []
  }
 ],
 "metadata": {
  "interpreter": {
   "hash": "ef064884badd19e9aeee1acc4248e51b028a1fbeaee7cef92a5778074870560d"
  },
  "kernelspec": {
   "display_name": "Python 3 (ipykernel)",
   "language": "python",
   "name": "python3"
  },
  "language_info": {
   "codemirror_mode": {
    "name": "ipython",
    "version": 3
   },
   "file_extension": ".py",
   "mimetype": "text/x-python",
   "name": "python",
   "nbconvert_exporter": "python",
   "pygments_lexer": "ipython3",
   "version": "3.8.12"
  }
 },
 "nbformat": 4,
 "nbformat_minor": 2
}
