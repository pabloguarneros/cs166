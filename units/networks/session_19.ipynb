{
 "cells": [
  {
   "cell_type": "code",
   "execution_count": 49,
   "metadata": {},
   "outputs": [],
   "source": [
    "# import relevant libraries\n",
    "import matplotlib.pyplot as plt\n",
    "import pylab\n",
    "import numpy as np\n",
    "import networkx as nx\n",
    "import random"
   ]
  },
  {
   "cell_type": "code",
   "execution_count": 51,
   "metadata": {},
   "outputs": [],
   "source": [
    "def initialize():\n",
    "    ''' Initialize the network graph\n",
    "    '''\n",
    "    g = nx.karate_club_graph()\n",
    "    g.pos = nx.spring_layout(g)\n",
    "    for i in g.nodes:\n",
    "        g.nodes[i]['state'] = 1 if pylab.random() < .5 else 0\n",
    "    return g\n",
    "\n",
    "def pull_updater(g):\n",
    "    ''' Original model\n",
    "    '''\n",
    "    listener = random.choice(list(g.nodes)) # choose a random node as the listener\n",
    "    speaker = random.choice(list(g.neighbors(listener))) # choose a random neighbhor as the speaker\n",
    "    g.nodes[listener]['state'] = g.nodes[speaker]['state'] # transfer state\n",
    "    return g\n",
    "\n",
    "def push_updater(g):\n",
    "    ''' Reverse discrete model\n",
    "    '''\n",
    "    speaker = random.choice(list(g.nodes)) # choose the random node as the speaker\n",
    "    listener = random.choice(list(g.neighbors(speaker))) # choose a random neighbhor as the listener\n",
    "    g.nodes[listener]['state'] = g.nodes[speaker]['state'] # transfer state\n",
    "    return g\n",
    "\n",
    "def edge_updater(g):\n",
    "    ''' Edge updated\n",
    "    '''\n",
    "    pair = list(random.choice(list(g.edges))) # choose a random edge\n",
    "    # from nodes connected by the edge, allocate randomly to each role\n",
    "    speaker, listener = (pair[0], pair[1]) if random.random() > 0.5 else (pair[1], pair[0])\n",
    "    g.nodes[listener]['state'] = g.nodes[speaker]['state']\n",
    "    return g\n",
    "\n",
    "def is_homogenized(g): # loop through all state to check if all the nodes have the same value\n",
    "    val = g.nodes[0]['state']\n",
    "    for i in g.nodes:\n",
    "        if val != g.nodes[i]['state']:\n",
    "            return False\n",
    "    return True\n",
    "\n",
    "def run_trial(updater):\n",
    "    ''' Run one trial given an updater function as an argument\n",
    "    '''\n",
    "    g = initialize()\n",
    "    counter = 0\n",
    "    while not is_homogenized(g): # run until all the states are the same\n",
    "        counter += 1 # each time you update, add to counter\n",
    "        g = updater(g)\n",
    "    return counter # when homogenized, return counter\n",
    "\n",
    "def plot_montecarlo_results(results,title):\n",
    "    ''' Plot results given an array of results and the plot ttle.\n",
    "    '''\n",
    "    plt.figure()\n",
    "    plt.hist(results, color=\"black\", bins=50)\n",
    "    plt.xlabel(\"Number of updates before state was homogenized\")\n",
    "    plt.show()\n",
    "    print(title)\n",
    "    print(f\"Mean is {np.mean(results)}\")"
   ]
  },
  {
   "cell_type": "code",
   "execution_count": 52,
   "metadata": {},
   "outputs": [
    {
     "data": {
      "image/png": "[encoded data removed]",
      "text/plain": [
       "<Figure size 432x288 with 1 Axes>"
      ]
     },
     "metadata": {
      "needs_background": "light"
     },
     "output_type": "display_data"
    },
    {
     "name": "stdout",
     "output_type": "stream",
     "text": [
      "Results for pull updater\n",
      "Mean is 597.509\n"
     ]
    },
    {
     "data": {
      "image/png": "[encoded data removed]",
      "text/plain": [
       "<Figure size 432x288 with 1 Axes>"
      ]
     },
     "metadata": {
      "needs_background": "light"
     },
     "output_type": "display_data"
    },
    {
     "name": "stdout",
     "output_type": "stream",
     "text": [
      "Results for push updater\n",
      "Mean is 3594.507\n"
     ]
    },
    {
     "data": {
      "image/png": "[encoded data removed]",
      "text/plain": [
       "<Figure size 432x288 with 1 Axes>"
      ]
     },
     "metadata": {
      "needs_background": "light"
     },
     "output_type": "display_data"
    },
    {
     "name": "stdout",
     "output_type": "stream",
     "text": [
      "Results for edge updater\n",
      "Mean is 1025.386\n"
     ]
    }
   ],
   "source": [
    "def run_simulation(updater, title, sims=1000):\n",
    "    results = [run_trial(updater) for _ in range(sims)]\n",
    "    plot_montecarlo_results(results,title)\n",
    "\n",
    "#pull information to the first node chosen\n",
    "run_simulation(pull_updater, \"Results for pull updater\")\n",
    "\n",
    "#push information from the first node chosen\n",
    "run_simulation(push_updater, \"Results for push updater\")\n",
    "\n",
    "# choose random between edges\n",
    "run_simulation(edge_updater, \"Results for edge updater\")\n"
   ]
  },
  {
   "cell_type": "markdown",
   "metadata": {},
   "source": [
    "### What the results tell us.\n",
    "After running 1000 simulations, the updater function with the highest mean was push (reverse) updated, followed by the edge updater, and ending with the pull updater which was the one with the least amount of steps needed to be homogenized. A reason for these results was that when the node with the highest degree is the speaker, then it means that the nodes that are more connected are quicker to transfer their information. However, if the nodes that are higher connected are the listeners and constantly changing based on inputs from random nodes that might only be connected once, then it leads to slower ways for everyone to reach consensus. The edges updates does not have the extreme bias of the other two given that even if it chooses the ones that have the most edges (e.g. more likely to have their edge picked), whether they are the receiver or the emitter is also 50% - 50%."
   ]
  }
 ],
 "metadata": {
  "interpreter": {
   "hash": "ddcb226651fe7f72cf10d5a36fb5660b306c8ee6ca244838c97ddb00e5ba31a7"
  },
  "kernelspec": {
   "display_name": "Python 3.9.6 ('env': venv)",
   "language": "python",
   "name": "python3"
  },
  "language_info": {
   "codemirror_mode": {
    "name": "ipython",
    "version": 3
   },
   "file_extension": ".py",
   "mimetype": "text/x-python",
   "name": "python",
   "nbconvert_exporter": "python",
   "pygments_lexer": "ipython3",
   "version": "3.9.6"
  },
  "orig_nbformat": 4
 },
 "nbformat": 4,
 "nbformat_minor": 2
}
