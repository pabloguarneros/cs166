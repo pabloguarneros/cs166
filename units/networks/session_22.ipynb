{
 "cells": [
  {
   "cell_type": "code",
   "execution_count": 14,
   "metadata": {},
   "outputs": [],
   "source": [
    "from scipy.optimize import root\n",
    "import numpy as np\n",
    "import matplotlib.pyplot as plt"
   ]
  },
  {
   "cell_type": "markdown",
   "metadata": {},
   "source": [
    "Prediction: as k increases, then q should decrease. As there are more edges in the system, then it is more likely that there is percolation and that the random node will be part of the system. As q is the probability that a random node is not in the system, then q should decrease the more nodes there are on average. If q decreases, then the size of the LCC increases and there is a higher probability that a random node is in LCC."
   ]
  },
  {
   "cell_type": "code",
   "execution_count": 12,
   "metadata": {},
   "outputs": [],
   "source": [
    "def calculate_q(k):\n",
    "    '''\n",
    "    Use a numerical root finder to determine q from the equation\n",
    "    q = exp(k*(q-1)).\n",
    "    '''\n",
    "    return root(lambda q: q - np.exp(k * (q-1)), 0).x[0]\n",
    "\n",
    "def calculate_size(k,n):\n",
    "    q = calculate_q(k)\n",
    "    return (1-q)*n\n"
   ]
  },
  {
   "cell_type": "code",
   "execution_count": 17,
   "metadata": {},
   "outputs": [
    {
     "data": {
      "image/png": "[encoded data removed]",
      "text/plain": [
       "<Figure size 432x288 with 1 Axes>"
      ]
     },
     "metadata": {
      "needs_background": "light"
     },
     "output_type": "display_data"
    },
    {
     "name": "stdout",
     "output_type": "stream",
     "text": [
      "Size of LCC for a network of size 1000 as k, average degree, changes.\n"
     ]
    }
   ],
   "source": [
    "n = 1000\n",
    "k = np.linspace(1,10,100)\n",
    "LCC_sizes = [calculate_size(k_i,n) for k_i in k]\n",
    "plt.plot(k, LCC_sizes)\n",
    "plt.xlabel('value of k')\n",
    "plt.ylabel('size of LCC')\n",
    "plt.show()\n",
    "print(f'Size of LCC for a network of size {n} as k, average degree, changes.')"
   ]
  }
 ],
 "metadata": {
  "interpreter": {
   "hash": "04d23024ba849f09d0d53cd45104395c2d2d3346b8ba3cd68f2a4deb15085709"
  },
  "kernelspec": {
   "display_name": "Python 3.7.13 ('cs166')",
   "language": "python",
   "name": "python3"
  },
  "language_info": {
   "codemirror_mode": {
    "name": "ipython",
    "version": 3
   },
   "file_extension": ".py",
   "mimetype": "text/x-python",
   "name": "python",
   "nbconvert_exporter": "python",
   "pygments_lexer": "ipython3",
   "version": "3.7.13"
  },
  "orig_nbformat": 4
 },
 "nbformat": 4,
 "nbformat_minor": 2
}
